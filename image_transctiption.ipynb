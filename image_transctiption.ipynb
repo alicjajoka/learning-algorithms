{
 "cells": [
  {
   "cell_type": "code",
   "execution_count": 1,
   "id": "597fe78b",
   "metadata": {},
   "outputs": [],
   "source": [
    "import numpy\n",
    "from numpy import ndarray\n",
    "from PIL import Image\n",
    "from pytesseract import pytesseract"
   ]
  },
  {
   "cell_type": "code",
   "execution_count": 2,
   "id": "50aae0c2",
   "metadata": {},
   "outputs": [],
   "source": [
    "def img_to_text(img_path):\n",
    "    path_to_tesseract = r'C:\\Program Files\\Tesseract-OCR\\tesseract.exe'\n",
    "    img = Image.open(img_path)\n",
    "    \n",
    "    pytesseract.tesseract_cmd = r'C:\\Program Files\\Tesseract-OCR\\tesseract.exe'\n",
    "    text = pytesseract.image_to_string(img)\n",
    "    \n",
    "    print(text[:-1])"
   ]
  },
  {
   "cell_type": "code",
   "execution_count": 3,
   "id": "992a50e7",
   "metadata": {
    "scrolled": false
   },
   "outputs": [
    {
     "name": "stdout",
     "output_type": "stream",
     "text": [
      "Chapter 5\n",
      "\n",
      "Machine Learning Basics\n",
      "\n",
      "Deep learning is a specific kind of machine learning. ‘To understand deep learning\n",
      "well, one must have a solid understanding of the basic principles of machine learning.\n",
      "This chapter provides a brief course in the most important general principles that\n",
      "are applied throughout the rest of the book. Novice readers or those who want a\n",
      "wider perspective are encouraged to consider machine learning textbooks with a\n",
      "more comprehensive coverage of the fundamentals, stich as Murpliy (2012) or Bishop\n",
      "(2006). If you are already familiar with machine learning basics, feel free to skip\n",
      "ahead to section 5.11, That section covers some perspectives on traditional machine\n",
      "learning techniques that have strongly influenced the development of deep learning\n",
      "algorithms.\n",
      "\n",
      " \n",
      "\n",
      "We begin with a definition of what a learning algorithm is and present an\n",
      "example: the linear regression algorithm. We then proceed to describe how the\n",
      "challenge of fitting the training data differs from the challenge of finding patterns\n",
      "that generalize to new data. Most machine learning algorithms have settings\n",
      "called hyperparameters, which must be determined outside the learning algorithm,\n",
      "itself; we discuss how to set these using additional data. Machine learning is\n",
      "essentially a form of applied statistics with increased emphasis on the use of\n",
      "computers to statistically estimate complicated functions and a decreased empha\n",
      "‘on proving confidence intervals around these functions; we therefore present the\n",
      "‘two central approaches to statistics: frequentist estimators and Bayesian inference.\n",
      "Most machine learning algorithms can be divided into the categories of supervised\n",
      "learning and unsupervised learning: we describe these categories and give some\n",
      "examples of simple learning algorithms from each category. Most deep learning\n",
      "algorithms are based on an optimization algorithm called stochastic gradient\n",
      "\n",
      "   \n",
      "\n",
      " \n",
      "\n",
      " \n",
      "\n",
      "96\n",
      "\n"
     ]
    }
   ],
   "source": [
    "img_to_text('images/chapter5.png')"
   ]
  },
  {
   "cell_type": "code",
   "execution_count": 4,
   "id": "f33b820b",
   "metadata": {},
   "outputs": [
    {
     "name": "stdout",
     "output_type": "stream",
     "text": [
      "1 7 .\n",
      "= <V oll XO 0 — y(n)? = 9 (5.8)\n",
      "\n",
      ". _\\\\ T . .\n",
      "= Ve (xi) w _ yor) ) ( x (train) ay yor) ) =0 (5.9)\n",
      "\n",
      "=Vw (w\" x (train)T (train), 97 x (train) yorain) + (train) yan) ) -0\n",
      ": : : : (5.10)\n",
      "= 2x (train)T x (train)ay _ 9 x (train)T gftrain) _ 9 (5.11)\n",
      "\n",
      "swe ( x (train) xin) X (train) Ty (train) (5.12)\n",
      "\n"
     ]
    }
   ],
   "source": [
    "img_to_text('images/latex.png')"
   ]
  },
  {
   "cell_type": "code",
   "execution_count": 5,
   "id": "437e62cb",
   "metadata": {},
   "outputs": [
    {
     "name": "stdout",
     "output_type": "stream",
     "text": [
      "THE COMPLETE TALES OF WINNIE-THE-POOH\n",
      "\n",
      "For some time now Pooh had been saying “Yes” and “No” in turn,\n",
      "with his eyes shut, to all that Owl was saying, and having said, “Yes,\n",
      "yes,” last time, he said “No, not at all,” now, without really knowing\n",
      "\n",
      "what Owl was talking about.\n",
      "\n",
      " \n",
      "\n",
      "“Didn't you see them?” said Owl, a little surprised. “Come and look\n",
      "at them now.”\n",
      "\n",
      "So they went outside. And Pooh looked at the knocker and the no-\n",
      "tice below it, and he looked at the bell-rope and the notice below it,\n",
      "and the more he looked at the bell-rope, the more he felt that he had\n",
      "seen something like it, somewhere else, sometime before.\n",
      "\n",
      "“Handsome bell-rope, isn’t it?” said Owl.\n",
      "\n",
      "Pooh nodded.\n",
      "\n",
      "‘It reminds me of something,” he said, “but I can’t think what.\n",
      "\n",
      "Where did you get it?”\n",
      "\n",
      " \n",
      "\n",
      "WINNIE-THE-POOH\n",
      "\n",
      " \n",
      "\n",
      " \n",
      "\n",
      "CUALPLEL Cwoxe ly\n",
      "IF AN Rasp if\n",
      "Pap. NOt keoio lk\n",
      "\n",
      "4)\n",
      "\n",
      " \n",
      "\n",
      "“I just came across it in the Forest. J¢ was hanging over a bush,\n",
      "and I thought at first somebody lived there, so I rang it, and nothing\n",
      "happened, and then I rang it again very loudly, and it came off in my\n",
      "\n",
      "hand, and as nobody seemed to want it, I took it home, and—”\n",
      "\n",
      " \n",
      "\n",
      " \n",
      "\n",
      " \n",
      "\n"
     ]
    }
   ],
   "source": [
    "img_to_text('images/winnie.jpg')"
   ]
  },
  {
   "cell_type": "code",
   "execution_count": 6,
   "id": "4c30225c",
   "metadata": {},
   "outputs": [
    {
     "name": "stdout",
     "output_type": "stream",
     "text": [
      "Mr. ROSOT\n",
      "\n"
     ]
    }
   ],
   "source": [
    "img_to_text('images/mrrobot.jpg')"
   ]
  },
  {
   "cell_type": "code",
   "execution_count": 7,
   "id": "8cab4415",
   "metadata": {},
   "outputs": [
    {
     "name": "stdout",
     "output_type": "stream",
     "text": [
      "How Lo Write Continucus Cumsive Letiers,\n",
      "\n",
      "An Bh Cx\n",
      "\n",
      " \n",
      "\n",
      "“Nn Oo Pp-Qq- Rr Ss Tt Un Var Wa Xm Vy Zz,\n",
      "\n",
      "Ads\n",
      "\n",
      " \n",
      "\n"
     ]
    }
   ],
   "source": [
    "img_to_text('images/alphabet.jpg')"
   ]
  }
 ],
 "metadata": {
  "kernelspec": {
   "display_name": "Python 3 (ipykernel)",
   "language": "python",
   "name": "python3"
  },
  "language_info": {
   "codemirror_mode": {
    "name": "ipython",
    "version": 3
   },
   "file_extension": ".py",
   "mimetype": "text/x-python",
   "name": "python",
   "nbconvert_exporter": "python",
   "pygments_lexer": "ipython3",
   "version": "3.8.8"
  }
 },
 "nbformat": 4,
 "nbformat_minor": 5
}
