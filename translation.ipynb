{
 "cells": [
  {
   "cell_type": "code",
   "execution_count": 1,
   "id": "df1cf6f5",
   "metadata": {},
   "outputs": [],
   "source": [
    "from deep_translator import GoogleTranslator"
   ]
  },
  {
   "cell_type": "code",
   "execution_count": 2,
   "id": "cad78a69",
   "metadata": {},
   "outputs": [
    {
     "data": {
      "text/plain": [
       "'Ich möchte diesen Text übersetzen'"
      ]
     },
     "execution_count": 2,
     "metadata": {},
     "output_type": "execute_result"
    }
   ],
   "source": [
    "to_translate = 'I want to translate this text'\n",
    "translated = GoogleTranslator(source='auto', target='de').translate(to_translate)\n",
    "translated"
   ]
  },
  {
   "cell_type": "code",
   "execution_count": 3,
   "id": "72ebe1fb",
   "metadata": {},
   "outputs": [
    {
     "data": {
      "text/plain": [
       "'Chcę przetłumaczyć ten tekst'"
      ]
     },
     "execution_count": 3,
     "metadata": {},
     "output_type": "execute_result"
    }
   ],
   "source": [
    "GoogleTranslator(source='auto', target='pl').translate(to_translate)"
   ]
  },
  {
   "cell_type": "code",
   "execution_count": 4,
   "id": "60f9c19b",
   "metadata": {},
   "outputs": [],
   "source": [
    "import numpy\n",
    "from numpy import ndarray\n",
    "from PIL import Image\n",
    "from pytesseract import pytesseract\n",
    "import string"
   ]
  },
  {
   "cell_type": "code",
   "execution_count": 5,
   "id": "32639ab1",
   "metadata": {},
   "outputs": [],
   "source": [
    "def img_to_text(img_path):\n",
    "    path_to_tesseract = r\"C:\\Program Files\\Tesseract-OCR\\tesseract.exe\"\n",
    "    img = Image.open(img_path)\n",
    "    \n",
    "    pytesseract.tesseract_cmd = r'C:\\Program Files\\Tesseract-OCR\\tesseract.exe'\n",
    "    text = pytesseract.image_to_string(img)\n",
    "    \n",
    "    return text[:-1]"
   ]
  },
  {
   "cell_type": "code",
   "execution_count": 6,
   "id": "fefaf4ab",
   "metadata": {},
   "outputs": [
    {
     "name": "stdout",
     "output_type": "stream",
     "text": [
      "Chapter 5\n",
      "\n",
      "Machine Learning Basics\n",
      "\n",
      "Deep learning is a specific kind of machine learning. ‘To understand deep learning\n",
      "well, one must have a solid understanding of the basic principles of machine learning.\n",
      "This chapter provides a brief course in the most important general principles that\n",
      "are applied throughout the rest of the book. Novice readers or those who want a\n",
      "wider perspective are encouraged to consider machine learning textbooks with a\n",
      "more comprehensive coverage of the fundamentals, stich as Murpliy (2012) or Bishop\n",
      "(2006). If you are already familiar with machine learning basics, feel free to skip\n",
      "ahead to section 5.11, That section covers some perspectives on traditional machine\n",
      "learning techniques that have strongly influenced the development of deep learning\n",
      "algorithms.\n",
      "\n",
      " \n",
      "\n",
      "We begin with a definition of what a learning algorithm is and present an\n",
      "example: the linear regression algorithm. We then proceed to describe how the\n",
      "challenge of fitting the training data differs from the challenge of finding patterns\n",
      "that generalize to new data. Most machine learning algorithms have settings\n",
      "called hyperparameters, which must be determined outside the learning algorithm,\n",
      "itself; we discuss how to set these using additional data. Machine learning is\n",
      "essentially a form of applied statistics with increased emphasis on the use of\n",
      "computers to statistically estimate complicated functions and a decreased empha\n",
      "‘on proving confidence intervals around these functions; we therefore present the\n",
      "‘two central approaches to statistics: frequentist estimators and Bayesian inference.\n",
      "Most machine learning algorithms can be divided into the categories of supervised\n",
      "learning and unsupervised learning: we describe these categories and give some\n",
      "examples of simple learning algorithms from each category. Most deep learning\n",
      "algorithms are based on an optimization algorithm called stochastic gradient\n",
      "\n",
      "   \n",
      "\n",
      " \n",
      "\n",
      " \n",
      "\n",
      "96\n",
      "\n"
     ]
    }
   ],
   "source": [
    "print(img_to_text('images/chapter5.png'))"
   ]
  },
  {
   "cell_type": "code",
   "execution_count": 7,
   "id": "139f62e6",
   "metadata": {},
   "outputs": [
    {
     "data": {
      "text/plain": [
       "'Rozdział 5 Podstawy uczenia maszynowego Uczenie głębokie to specyficzny rodzaj uczenia maszynowego. „Aby dobrze zrozumieć głębokie uczenie się, trzeba solidnie zrozumieć podstawowe zasady uczenia maszynowego. Ten rozdział zawiera krótki kurs najważniejszych ogólnych zasad, które są stosowane w pozostałej części książki. Początkujących czytelników lub tych, którzy chcą szerszej perspektywy, zachęca się do rozważenia podręczników do uczenia maszynowego z bardziej kompleksowym omówieniem podstaw, takich jak Murpliy (2012) lub Bishop (2006). Jeśli znasz już podstawy uczenia maszynowego, możesz przejść od razu do sekcji 5.11, w której opisano niektóre perspektywy dotyczące tradycyjnych technik uczenia maszynowego, które silnie wpłynęły na rozwój algorytmów uczenia głębokiego. Zaczynamy od zdefiniowania, czym jest algorytm uczący się i przedstawiamy przykład: algorytm regresji liniowej. Następnie przejdziemy do opisu, w jaki sposób wyzwanie polegające na dopasowaniu danych treningowych różni się od wyzwania polegającego na znalezieniu wzorców, które uogólniają się na nowe dane. Większość algorytmów uczenia maszynowego ma ustawienia zwane hiperparametrami, które muszą być określone poza samym algorytmem uczącym się; omawiamy, jak je ustawić przy użyciu dodatkowych danych. Uczenie maszynowe jest zasadniczo formą statystyki stosowanej, ze zwiększonym naciskiem na wykorzystanie komputerów do statystycznego oszacowania skomplikowanych funkcji i zmniejszonym naciskiem „na udowodnienie przedziałów ufności wokół tych funkcji; dlatego przedstawiamy „dwa centralne podejścia do statystyki: estymatory częstościowe i wnioskowanie bayesowskie”. Większość algorytmów uczenia maszynowego można podzielić na kategorie uczenia nadzorowanego i uczenia nienadzorowanego: opisujemy te kategorie i podajemy przykłady prostych algorytmów uczenia się z każdej kategorii. Większość algorytmów głębokiego uczenia się opiera się na algorytmie optymalizacyjnym zwanym gradientem stochastycznym 96'"
      ]
     },
     "execution_count": 7,
     "metadata": {},
     "output_type": "execute_result"
    }
   ],
   "source": [
    "tx = img_to_text('images/chapter5.png').replace('\\n', ' ')\n",
    "tx = GoogleTranslator(source='auto', target='pl').translate(tx)\n",
    "tx"
   ]
  },
  {
   "cell_type": "code",
   "execution_count": null,
   "id": "489aa5cc",
   "metadata": {},
   "outputs": [],
   "source": []
  }
 ],
 "metadata": {
  "kernelspec": {
   "display_name": "Python 3 (ipykernel)",
   "language": "python",
   "name": "python3"
  },
  "language_info": {
   "codemirror_mode": {
    "name": "ipython",
    "version": 3
   },
   "file_extension": ".py",
   "mimetype": "text/x-python",
   "name": "python",
   "nbconvert_exporter": "python",
   "pygments_lexer": "ipython3",
   "version": "3.8.8"
  }
 },
 "nbformat": 4,
 "nbformat_minor": 5
}
